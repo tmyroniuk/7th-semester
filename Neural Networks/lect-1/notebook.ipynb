{
  "nbformat": 4,
  "nbformat_minor": 0,
  "metadata": {
    "colab": {
      "name": "NN-Lect-1.ipynb",
      "provenance": [],
      "collapsed_sections": [],
      "authorship_tag": "ABX9TyOc4j2kkbV3cv596/Om71e9",
      "include_colab_link": true
    },
    "kernelspec": {
      "name": "python3",
      "display_name": "Python 3"
    },
    "language_info": {
      "name": "python"
    }
  },
  "cells": [
    {
      "cell_type": "markdown",
      "metadata": {
        "id": "view-in-github",
        "colab_type": "text"
      },
      "source": [
        "<a href=\"https://colab.research.google.com/github/tmyroniuk/7th-semester/blob/master/Neural%20Networks/lect-1/notebook.ipynb\" target=\"_parent\"><img src=\"https://colab.research.google.com/assets/colab-badge.svg\" alt=\"Open In Colab\"/></a>"
      ]
    },
    {
      "cell_type": "code",
      "metadata": {
        "id": "0mHukevT9Lp0",
        "colab": {
          "base_uri": "https://localhost:8080/"
        },
        "outputId": "0e1e152c-726a-47b9-8229-ef4a87054b57"
      },
      "source": [
        "import numpy as np\n",
        "import pandas as pd\n",
        "\n",
        "np.set_printoptions(precision=2)\n",
        "data = pd.read_csv('https://raw.githubusercontent.com/tmyroniuk/7th-semester/master/Neural%20Networks/lect-1/beauty.csv', sep=';')\n",
        "type(data)"
      ],
      "execution_count": 6,
      "outputs": [
        {
          "output_type": "execute_result",
          "data": {
            "text/plain": [
              "pandas.core.frame.DataFrame"
            ]
          },
          "metadata": {},
          "execution_count": 6
        }
      ]
    },
    {
      "cell_type": "code",
      "metadata": {
        "colab": {
          "base_uri": "https://localhost:8080/",
          "height": 205
        },
        "id": "chUbNX9Piq98",
        "outputId": "96301d4f-e097-42b7-c807-79c6a08de911"
      },
      "source": [
        "data.head()"
      ],
      "execution_count": 25,
      "outputs": [
        {
          "output_type": "execute_result",
          "data": {
            "text/html": [
              "<div>\n",
              "<style scoped>\n",
              "    .dataframe tbody tr th:only-of-type {\n",
              "        vertical-align: middle;\n",
              "    }\n",
              "\n",
              "    .dataframe tbody tr th {\n",
              "        vertical-align: top;\n",
              "    }\n",
              "\n",
              "    .dataframe thead th {\n",
              "        text-align: right;\n",
              "    }\n",
              "</style>\n",
              "<table border=\"1\" class=\"dataframe\">\n",
              "  <thead>\n",
              "    <tr style=\"text-align: right;\">\n",
              "      <th></th>\n",
              "      <th>wage</th>\n",
              "      <th>exper</th>\n",
              "      <th>union</th>\n",
              "      <th>goodhlth</th>\n",
              "      <th>black</th>\n",
              "      <th>female</th>\n",
              "      <th>married</th>\n",
              "      <th>service</th>\n",
              "      <th>educ</th>\n",
              "      <th>looks</th>\n",
              "      <th>is_rich</th>\n",
              "    </tr>\n",
              "  </thead>\n",
              "  <tbody>\n",
              "    <tr>\n",
              "      <th>0</th>\n",
              "      <td>5.73</td>\n",
              "      <td>30</td>\n",
              "      <td>0</td>\n",
              "      <td>1</td>\n",
              "      <td>0</td>\n",
              "      <td>1</td>\n",
              "      <td>1</td>\n",
              "      <td>1</td>\n",
              "      <td>14</td>\n",
              "      <td>4</td>\n",
              "      <td>0</td>\n",
              "    </tr>\n",
              "    <tr>\n",
              "      <th>1</th>\n",
              "      <td>4.28</td>\n",
              "      <td>28</td>\n",
              "      <td>0</td>\n",
              "      <td>1</td>\n",
              "      <td>0</td>\n",
              "      <td>1</td>\n",
              "      <td>1</td>\n",
              "      <td>0</td>\n",
              "      <td>12</td>\n",
              "      <td>3</td>\n",
              "      <td>0</td>\n",
              "    </tr>\n",
              "    <tr>\n",
              "      <th>2</th>\n",
              "      <td>7.96</td>\n",
              "      <td>35</td>\n",
              "      <td>0</td>\n",
              "      <td>1</td>\n",
              "      <td>0</td>\n",
              "      <td>1</td>\n",
              "      <td>0</td>\n",
              "      <td>0</td>\n",
              "      <td>10</td>\n",
              "      <td>4</td>\n",
              "      <td>1</td>\n",
              "    </tr>\n",
              "    <tr>\n",
              "      <th>3</th>\n",
              "      <td>11.57</td>\n",
              "      <td>38</td>\n",
              "      <td>0</td>\n",
              "      <td>1</td>\n",
              "      <td>0</td>\n",
              "      <td>0</td>\n",
              "      <td>1</td>\n",
              "      <td>1</td>\n",
              "      <td>16</td>\n",
              "      <td>3</td>\n",
              "      <td>1</td>\n",
              "    </tr>\n",
              "    <tr>\n",
              "      <th>4</th>\n",
              "      <td>11.42</td>\n",
              "      <td>27</td>\n",
              "      <td>0</td>\n",
              "      <td>1</td>\n",
              "      <td>0</td>\n",
              "      <td>0</td>\n",
              "      <td>1</td>\n",
              "      <td>0</td>\n",
              "      <td>16</td>\n",
              "      <td>3</td>\n",
              "      <td>1</td>\n",
              "    </tr>\n",
              "  </tbody>\n",
              "</table>\n",
              "</div>"
            ],
            "text/plain": [
              "    wage  exper  union  goodhlth  black  ...  married  service  educ  looks  is_rich\n",
              "0   5.73     30      0         1      0  ...        1        1    14      4        0\n",
              "1   4.28     28      0         1      0  ...        1        0    12      3        0\n",
              "2   7.96     35      0         1      0  ...        0        0    10      4        1\n",
              "3  11.57     38      0         1      0  ...        1        1    16      3        1\n",
              "4  11.42     27      0         1      0  ...        1        0    16      3        1\n",
              "\n",
              "[5 rows x 11 columns]"
            ]
          },
          "metadata": {},
          "execution_count": 25
        }
      ]
    },
    {
      "cell_type": "code",
      "metadata": {
        "colab": {
          "base_uri": "https://localhost:8080/"
        },
        "id": "QazHgjGTitq3",
        "outputId": "0ba48359-cc26-4d24-8131-922a85803c9c"
      },
      "source": [
        "data.shape"
      ],
      "execution_count": 8,
      "outputs": [
        {
          "output_type": "execute_result",
          "data": {
            "text/plain": [
              "(1260, 10)"
            ]
          },
          "metadata": {},
          "execution_count": 8
        }
      ]
    },
    {
      "cell_type": "code",
      "metadata": {
        "colab": {
          "base_uri": "https://localhost:8080/"
        },
        "id": "y9QjCU7Hiv72",
        "outputId": "f89c1802-64fa-45cd-ca41-02f75b3195f0"
      },
      "source": [
        "data.info()"
      ],
      "execution_count": 10,
      "outputs": [
        {
          "output_type": "stream",
          "name": "stdout",
          "text": [
            "<class 'pandas.core.frame.DataFrame'>\n",
            "RangeIndex: 1260 entries, 0 to 1259\n",
            "Data columns (total 10 columns):\n",
            " #   Column    Non-Null Count  Dtype  \n",
            "---  ------    --------------  -----  \n",
            " 0   wage      1260 non-null   float64\n",
            " 1   exper     1260 non-null   int64  \n",
            " 2   union     1260 non-null   int64  \n",
            " 3   goodhlth  1260 non-null   int64  \n",
            " 4   black     1260 non-null   int64  \n",
            " 5   female    1260 non-null   int64  \n",
            " 6   married   1260 non-null   int64  \n",
            " 7   service   1260 non-null   int64  \n",
            " 8   educ      1260 non-null   int64  \n",
            " 9   looks     1260 non-null   int64  \n",
            "dtypes: float64(1), int64(9)\n",
            "memory usage: 98.6 KB\n"
          ]
        }
      ]
    },
    {
      "cell_type": "code",
      "metadata": {
        "colab": {
          "base_uri": "https://localhost:8080/",
          "height": 299
        },
        "id": "TuIDZIbLi2JY",
        "outputId": "487faa7d-cc3d-4d82-a3e2-eb46e5eedffe"
      },
      "source": [
        "data.describe()"
      ],
      "execution_count": 11,
      "outputs": [
        {
          "output_type": "execute_result",
          "data": {
            "text/html": [
              "<div>\n",
              "<style scoped>\n",
              "    .dataframe tbody tr th:only-of-type {\n",
              "        vertical-align: middle;\n",
              "    }\n",
              "\n",
              "    .dataframe tbody tr th {\n",
              "        vertical-align: top;\n",
              "    }\n",
              "\n",
              "    .dataframe thead th {\n",
              "        text-align: right;\n",
              "    }\n",
              "</style>\n",
              "<table border=\"1\" class=\"dataframe\">\n",
              "  <thead>\n",
              "    <tr style=\"text-align: right;\">\n",
              "      <th></th>\n",
              "      <th>wage</th>\n",
              "      <th>exper</th>\n",
              "      <th>union</th>\n",
              "      <th>goodhlth</th>\n",
              "      <th>black</th>\n",
              "      <th>female</th>\n",
              "      <th>married</th>\n",
              "      <th>service</th>\n",
              "      <th>educ</th>\n",
              "      <th>looks</th>\n",
              "    </tr>\n",
              "  </thead>\n",
              "  <tbody>\n",
              "    <tr>\n",
              "      <th>count</th>\n",
              "      <td>1260.000000</td>\n",
              "      <td>1260.000000</td>\n",
              "      <td>1260.000000</td>\n",
              "      <td>1260.000000</td>\n",
              "      <td>1260.000000</td>\n",
              "      <td>1260.000000</td>\n",
              "      <td>1260.000000</td>\n",
              "      <td>1260.000000</td>\n",
              "      <td>1260.000000</td>\n",
              "      <td>1260.000000</td>\n",
              "    </tr>\n",
              "    <tr>\n",
              "      <th>mean</th>\n",
              "      <td>6.306690</td>\n",
              "      <td>18.206349</td>\n",
              "      <td>0.272222</td>\n",
              "      <td>0.933333</td>\n",
              "      <td>0.073810</td>\n",
              "      <td>0.346032</td>\n",
              "      <td>0.691270</td>\n",
              "      <td>0.273810</td>\n",
              "      <td>12.563492</td>\n",
              "      <td>3.185714</td>\n",
              "    </tr>\n",
              "    <tr>\n",
              "      <th>std</th>\n",
              "      <td>4.660639</td>\n",
              "      <td>11.963485</td>\n",
              "      <td>0.445280</td>\n",
              "      <td>0.249543</td>\n",
              "      <td>0.261564</td>\n",
              "      <td>0.475892</td>\n",
              "      <td>0.462153</td>\n",
              "      <td>0.446089</td>\n",
              "      <td>2.624489</td>\n",
              "      <td>0.684877</td>\n",
              "    </tr>\n",
              "    <tr>\n",
              "      <th>min</th>\n",
              "      <td>1.020000</td>\n",
              "      <td>0.000000</td>\n",
              "      <td>0.000000</td>\n",
              "      <td>0.000000</td>\n",
              "      <td>0.000000</td>\n",
              "      <td>0.000000</td>\n",
              "      <td>0.000000</td>\n",
              "      <td>0.000000</td>\n",
              "      <td>5.000000</td>\n",
              "      <td>1.000000</td>\n",
              "    </tr>\n",
              "    <tr>\n",
              "      <th>25%</th>\n",
              "      <td>3.707500</td>\n",
              "      <td>8.000000</td>\n",
              "      <td>0.000000</td>\n",
              "      <td>1.000000</td>\n",
              "      <td>0.000000</td>\n",
              "      <td>0.000000</td>\n",
              "      <td>0.000000</td>\n",
              "      <td>0.000000</td>\n",
              "      <td>12.000000</td>\n",
              "      <td>3.000000</td>\n",
              "    </tr>\n",
              "    <tr>\n",
              "      <th>50%</th>\n",
              "      <td>5.300000</td>\n",
              "      <td>15.000000</td>\n",
              "      <td>0.000000</td>\n",
              "      <td>1.000000</td>\n",
              "      <td>0.000000</td>\n",
              "      <td>0.000000</td>\n",
              "      <td>1.000000</td>\n",
              "      <td>0.000000</td>\n",
              "      <td>12.000000</td>\n",
              "      <td>3.000000</td>\n",
              "    </tr>\n",
              "    <tr>\n",
              "      <th>75%</th>\n",
              "      <td>7.695000</td>\n",
              "      <td>27.000000</td>\n",
              "      <td>1.000000</td>\n",
              "      <td>1.000000</td>\n",
              "      <td>0.000000</td>\n",
              "      <td>1.000000</td>\n",
              "      <td>1.000000</td>\n",
              "      <td>1.000000</td>\n",
              "      <td>13.000000</td>\n",
              "      <td>4.000000</td>\n",
              "    </tr>\n",
              "    <tr>\n",
              "      <th>max</th>\n",
              "      <td>77.720000</td>\n",
              "      <td>48.000000</td>\n",
              "      <td>1.000000</td>\n",
              "      <td>1.000000</td>\n",
              "      <td>1.000000</td>\n",
              "      <td>1.000000</td>\n",
              "      <td>1.000000</td>\n",
              "      <td>1.000000</td>\n",
              "      <td>17.000000</td>\n",
              "      <td>5.000000</td>\n",
              "    </tr>\n",
              "  </tbody>\n",
              "</table>\n",
              "</div>"
            ],
            "text/plain": [
              "              wage        exper  ...         educ        looks\n",
              "count  1260.000000  1260.000000  ...  1260.000000  1260.000000\n",
              "mean      6.306690    18.206349  ...    12.563492     3.185714\n",
              "std       4.660639    11.963485  ...     2.624489     0.684877\n",
              "min       1.020000     0.000000  ...     5.000000     1.000000\n",
              "25%       3.707500     8.000000  ...    12.000000     3.000000\n",
              "50%       5.300000    15.000000  ...    12.000000     3.000000\n",
              "75%       7.695000    27.000000  ...    13.000000     4.000000\n",
              "max      77.720000    48.000000  ...    17.000000     5.000000\n",
              "\n",
              "[8 rows x 10 columns]"
            ]
          },
          "metadata": {},
          "execution_count": 11
        }
      ]
    },
    {
      "cell_type": "code",
      "metadata": {
        "colab": {
          "base_uri": "https://localhost:8080/"
        },
        "id": "2wu7es8MjB_i",
        "outputId": "b62502a4-6280-4f63-b0ba-70267b83a66f"
      },
      "source": [
        "data['exper'].head()"
      ],
      "execution_count": 12,
      "outputs": [
        {
          "output_type": "execute_result",
          "data": {
            "text/plain": [
              "0    30\n",
              "1    28\n",
              "2    35\n",
              "3    38\n",
              "4    27\n",
              "Name: exper, dtype: int64"
            ]
          },
          "metadata": {},
          "execution_count": 12
        }
      ]
    },
    {
      "cell_type": "code",
      "metadata": {
        "colab": {
          "base_uri": "https://localhost:8080/",
          "height": 236
        },
        "id": "a2__bdZSjMJl",
        "outputId": "90b819d9-fcdb-4e23-96ca-13561c730df9"
      },
      "source": [
        "data.loc[0:5, ['wage', 'female']]"
      ],
      "execution_count": 13,
      "outputs": [
        {
          "output_type": "execute_result",
          "data": {
            "text/html": [
              "<div>\n",
              "<style scoped>\n",
              "    .dataframe tbody tr th:only-of-type {\n",
              "        vertical-align: middle;\n",
              "    }\n",
              "\n",
              "    .dataframe tbody tr th {\n",
              "        vertical-align: top;\n",
              "    }\n",
              "\n",
              "    .dataframe thead th {\n",
              "        text-align: right;\n",
              "    }\n",
              "</style>\n",
              "<table border=\"1\" class=\"dataframe\">\n",
              "  <thead>\n",
              "    <tr style=\"text-align: right;\">\n",
              "      <th></th>\n",
              "      <th>wage</th>\n",
              "      <th>female</th>\n",
              "    </tr>\n",
              "  </thead>\n",
              "  <tbody>\n",
              "    <tr>\n",
              "      <th>0</th>\n",
              "      <td>5.73</td>\n",
              "      <td>1</td>\n",
              "    </tr>\n",
              "    <tr>\n",
              "      <th>1</th>\n",
              "      <td>4.28</td>\n",
              "      <td>1</td>\n",
              "    </tr>\n",
              "    <tr>\n",
              "      <th>2</th>\n",
              "      <td>7.96</td>\n",
              "      <td>1</td>\n",
              "    </tr>\n",
              "    <tr>\n",
              "      <th>3</th>\n",
              "      <td>11.57</td>\n",
              "      <td>0</td>\n",
              "    </tr>\n",
              "    <tr>\n",
              "      <th>4</th>\n",
              "      <td>11.42</td>\n",
              "      <td>0</td>\n",
              "    </tr>\n",
              "    <tr>\n",
              "      <th>5</th>\n",
              "      <td>3.91</td>\n",
              "      <td>1</td>\n",
              "    </tr>\n",
              "  </tbody>\n",
              "</table>\n",
              "</div>"
            ],
            "text/plain": [
              "    wage  female\n",
              "0   5.73       1\n",
              "1   4.28       1\n",
              "2   7.96       1\n",
              "3  11.57       0\n",
              "4  11.42       0\n",
              "5   3.91       1"
            ]
          },
          "metadata": {},
          "execution_count": 13
        }
      ]
    },
    {
      "cell_type": "code",
      "metadata": {
        "colab": {
          "base_uri": "https://localhost:8080/",
          "height": 205
        },
        "id": "8xFrwcpZjhvz",
        "outputId": "9c87c2d8-5d39-4b2a-81d4-f38c3167fd25"
      },
      "source": [
        "data.iloc[:,2:4].head()"
      ],
      "execution_count": 14,
      "outputs": [
        {
          "output_type": "execute_result",
          "data": {
            "text/html": [
              "<div>\n",
              "<style scoped>\n",
              "    .dataframe tbody tr th:only-of-type {\n",
              "        vertical-align: middle;\n",
              "    }\n",
              "\n",
              "    .dataframe tbody tr th {\n",
              "        vertical-align: top;\n",
              "    }\n",
              "\n",
              "    .dataframe thead th {\n",
              "        text-align: right;\n",
              "    }\n",
              "</style>\n",
              "<table border=\"1\" class=\"dataframe\">\n",
              "  <thead>\n",
              "    <tr style=\"text-align: right;\">\n",
              "      <th></th>\n",
              "      <th>union</th>\n",
              "      <th>goodhlth</th>\n",
              "    </tr>\n",
              "  </thead>\n",
              "  <tbody>\n",
              "    <tr>\n",
              "      <th>0</th>\n",
              "      <td>0</td>\n",
              "      <td>1</td>\n",
              "    </tr>\n",
              "    <tr>\n",
              "      <th>1</th>\n",
              "      <td>0</td>\n",
              "      <td>1</td>\n",
              "    </tr>\n",
              "    <tr>\n",
              "      <th>2</th>\n",
              "      <td>0</td>\n",
              "      <td>1</td>\n",
              "    </tr>\n",
              "    <tr>\n",
              "      <th>3</th>\n",
              "      <td>0</td>\n",
              "      <td>1</td>\n",
              "    </tr>\n",
              "    <tr>\n",
              "      <th>4</th>\n",
              "      <td>0</td>\n",
              "      <td>1</td>\n",
              "    </tr>\n",
              "  </tbody>\n",
              "</table>\n",
              "</div>"
            ],
            "text/plain": [
              "   union  goodhlth\n",
              "0      0         1\n",
              "1      0         1\n",
              "2      0         1\n",
              "3      0         1\n",
              "4      0         1"
            ]
          },
          "metadata": {},
          "execution_count": 14
        }
      ]
    },
    {
      "cell_type": "code",
      "metadata": {
        "colab": {
          "base_uri": "https://localhost:8080/"
        },
        "id": "w64TlVusjrHs",
        "outputId": "c0ae12ec-1a68-4106-d00e-b9d1dc7d9618"
      },
      "source": [
        "data[data['female'] == 1]['wage'].mean(), \\\n",
        "data[data['female'] == 0]['wage'].mean()"
      ],
      "execution_count": 17,
      "outputs": [
        {
          "output_type": "execute_result",
          "data": {
            "text/plain": [
              "(4.299357798165136, 7.3688228155339734)"
            ]
          },
          "metadata": {},
          "execution_count": 17
        }
      ]
    },
    {
      "cell_type": "code",
      "metadata": {
        "colab": {
          "base_uri": "https://localhost:8080/"
        },
        "id": "TsxWs_c7kErl",
        "outputId": "b2249ec7-bb9a-4fa5-d72a-c963cb4a2034"
      },
      "source": [
        "data[(data['female'] == 0) & (data['married'] == 1)]['wage'].median(), \\\n",
        "data[(data['female'] == 0) & (data['married'] == 0)]['wage'].median()"
      ],
      "execution_count": 18,
      "outputs": [
        {
          "output_type": "execute_result",
          "data": {
            "text/plain": [
              "(6.710000000000001, 5.0649999999999995)"
            ]
          },
          "metadata": {},
          "execution_count": 18
        }
      ]
    },
    {
      "cell_type": "code",
      "metadata": {
        "colab": {
          "base_uri": "https://localhost:8080/"
        },
        "id": "8YzqyHV1kcNv",
        "outputId": "1982588b-4a6e-4745-d5fa-d69d5661048d"
      },
      "source": [
        "for look, sub_df in data.groupby('looks'):\n",
        "  print(look)\n",
        "  print(sub_df['goodhlth'].mean())"
      ],
      "execution_count": 19,
      "outputs": [
        {
          "output_type": "stream",
          "name": "stdout",
          "text": [
            "1\n",
            "0.8461538461538461\n",
            "2\n",
            "0.9366197183098591\n",
            "3\n",
            "0.9210526315789473\n",
            "4\n",
            "0.9560439560439561\n",
            "5\n",
            "1.0\n"
          ]
        }
      ]
    },
    {
      "cell_type": "code",
      "metadata": {
        "colab": {
          "base_uri": "https://localhost:8080/",
          "height": 236
        },
        "id": "QitUGbEbk1bm",
        "outputId": "a92e1649-d24a-42a3-a9b7-6af91ab68b50"
      },
      "source": [
        "data.groupby('looks')[['wage', 'exper']].agg(np.median)"
      ],
      "execution_count": 20,
      "outputs": [
        {
          "output_type": "execute_result",
          "data": {
            "text/html": [
              "<div>\n",
              "<style scoped>\n",
              "    .dataframe tbody tr th:only-of-type {\n",
              "        vertical-align: middle;\n",
              "    }\n",
              "\n",
              "    .dataframe tbody tr th {\n",
              "        vertical-align: top;\n",
              "    }\n",
              "\n",
              "    .dataframe thead th {\n",
              "        text-align: right;\n",
              "    }\n",
              "</style>\n",
              "<table border=\"1\" class=\"dataframe\">\n",
              "  <thead>\n",
              "    <tr style=\"text-align: right;\">\n",
              "      <th></th>\n",
              "      <th>wage</th>\n",
              "      <th>exper</th>\n",
              "    </tr>\n",
              "    <tr>\n",
              "      <th>looks</th>\n",
              "      <th></th>\n",
              "      <th></th>\n",
              "    </tr>\n",
              "  </thead>\n",
              "  <tbody>\n",
              "    <tr>\n",
              "      <th>1</th>\n",
              "      <td>3.460</td>\n",
              "      <td>32.0</td>\n",
              "    </tr>\n",
              "    <tr>\n",
              "      <th>2</th>\n",
              "      <td>4.595</td>\n",
              "      <td>18.0</td>\n",
              "    </tr>\n",
              "    <tr>\n",
              "      <th>3</th>\n",
              "      <td>5.635</td>\n",
              "      <td>18.0</td>\n",
              "    </tr>\n",
              "    <tr>\n",
              "      <th>4</th>\n",
              "      <td>5.240</td>\n",
              "      <td>12.5</td>\n",
              "    </tr>\n",
              "    <tr>\n",
              "      <th>5</th>\n",
              "      <td>4.810</td>\n",
              "      <td>8.0</td>\n",
              "    </tr>\n",
              "  </tbody>\n",
              "</table>\n",
              "</div>"
            ],
            "text/plain": [
              "        wage  exper\n",
              "looks              \n",
              "1      3.460   32.0\n",
              "2      4.595   18.0\n",
              "3      5.635   18.0\n",
              "4      5.240   12.5\n",
              "5      4.810    8.0"
            ]
          },
          "metadata": {},
          "execution_count": 20
        }
      ]
    },
    {
      "cell_type": "code",
      "metadata": {
        "colab": {
          "base_uri": "https://localhost:8080/",
          "height": 143
        },
        "id": "u0cstU5XlEeI",
        "outputId": "7beb0000-8058-4ded-d6ef-1dc138a783fe"
      },
      "source": [
        "pd.crosstab(data['female'], data['married'])"
      ],
      "execution_count": 21,
      "outputs": [
        {
          "output_type": "execute_result",
          "data": {
            "text/html": [
              "<div>\n",
              "<style scoped>\n",
              "    .dataframe tbody tr th:only-of-type {\n",
              "        vertical-align: middle;\n",
              "    }\n",
              "\n",
              "    .dataframe tbody tr th {\n",
              "        vertical-align: top;\n",
              "    }\n",
              "\n",
              "    .dataframe thead th {\n",
              "        text-align: right;\n",
              "    }\n",
              "</style>\n",
              "<table border=\"1\" class=\"dataframe\">\n",
              "  <thead>\n",
              "    <tr style=\"text-align: right;\">\n",
              "      <th>married</th>\n",
              "      <th>0</th>\n",
              "      <th>1</th>\n",
              "    </tr>\n",
              "    <tr>\n",
              "      <th>female</th>\n",
              "      <th></th>\n",
              "      <th></th>\n",
              "    </tr>\n",
              "  </thead>\n",
              "  <tbody>\n",
              "    <tr>\n",
              "      <th>0</th>\n",
              "      <td>166</td>\n",
              "      <td>658</td>\n",
              "    </tr>\n",
              "    <tr>\n",
              "      <th>1</th>\n",
              "      <td>223</td>\n",
              "      <td>213</td>\n",
              "    </tr>\n",
              "  </tbody>\n",
              "</table>\n",
              "</div>"
            ],
            "text/plain": [
              "married    0    1\n",
              "female           \n",
              "0        166  658\n",
              "1        223  213"
            ]
          },
          "metadata": {},
          "execution_count": 21
        }
      ]
    },
    {
      "cell_type": "code",
      "metadata": {
        "colab": {
          "base_uri": "https://localhost:8080/",
          "height": 143
        },
        "id": "i3qEu6T6lTFf",
        "outputId": "5443a086-4bd5-477a-c6a4-3348e30332ee"
      },
      "source": [
        "pd.crosstab(data['female'], data['looks'])"
      ],
      "execution_count": 22,
      "outputs": [
        {
          "output_type": "execute_result",
          "data": {
            "text/html": [
              "<div>\n",
              "<style scoped>\n",
              "    .dataframe tbody tr th:only-of-type {\n",
              "        vertical-align: middle;\n",
              "    }\n",
              "\n",
              "    .dataframe tbody tr th {\n",
              "        vertical-align: top;\n",
              "    }\n",
              "\n",
              "    .dataframe thead th {\n",
              "        text-align: right;\n",
              "    }\n",
              "</style>\n",
              "<table border=\"1\" class=\"dataframe\">\n",
              "  <thead>\n",
              "    <tr style=\"text-align: right;\">\n",
              "      <th>looks</th>\n",
              "      <th>1</th>\n",
              "      <th>2</th>\n",
              "      <th>3</th>\n",
              "      <th>4</th>\n",
              "      <th>5</th>\n",
              "    </tr>\n",
              "    <tr>\n",
              "      <th>female</th>\n",
              "      <th></th>\n",
              "      <th></th>\n",
              "      <th></th>\n",
              "      <th></th>\n",
              "      <th></th>\n",
              "    </tr>\n",
              "  </thead>\n",
              "  <tbody>\n",
              "    <tr>\n",
              "      <th>0</th>\n",
              "      <td>8</td>\n",
              "      <td>88</td>\n",
              "      <td>489</td>\n",
              "      <td>228</td>\n",
              "      <td>11</td>\n",
              "    </tr>\n",
              "    <tr>\n",
              "      <th>1</th>\n",
              "      <td>5</td>\n",
              "      <td>54</td>\n",
              "      <td>233</td>\n",
              "      <td>136</td>\n",
              "      <td>8</td>\n",
              "    </tr>\n",
              "  </tbody>\n",
              "</table>\n",
              "</div>"
            ],
            "text/plain": [
              "looks   1   2    3    4   5\n",
              "female                     \n",
              "0       8  88  489  228  11\n",
              "1       5  54  233  136   8"
            ]
          },
          "metadata": {},
          "execution_count": 22
        }
      ]
    },
    {
      "cell_type": "code",
      "metadata": {
        "colab": {
          "base_uri": "https://localhost:8080/"
        },
        "id": "wvGPtcEcliYv",
        "outputId": "f7e2ea8c-376a-4d69-c51e-127dfc9c5372"
      },
      "source": [
        "data['is_rich'] = (data['wage'] > data['wage'].quantile(.75)).astype('int64')\n",
        "data.head"
      ],
      "execution_count": 24,
      "outputs": [
        {
          "output_type": "execute_result",
          "data": {
            "text/plain": [
              "<bound method NDFrame.head of        wage  exper  union  goodhlth  ...  service  educ  looks  is_rich\n",
              "0      5.73     30      0         1  ...        1    14      4        0\n",
              "1      4.28     28      0         1  ...        0    12      3        0\n",
              "2      7.96     35      0         1  ...        0    10      4        1\n",
              "3     11.57     38      0         1  ...        1    16      3        1\n",
              "4     11.42     27      0         1  ...        0    16      3        1\n",
              "...     ...    ...    ...       ...  ...      ...   ...    ...      ...\n",
              "1255   1.61     25      0         1  ...        1    12      3        0\n",
              "1256   1.68      4      0         1  ...        1    12      2        0\n",
              "1257   3.29     35      0         1  ...        1    12      3        0\n",
              "1258   2.31     15      0         1  ...        1    10      3        0\n",
              "1259   1.92     24      0         0  ...        1    16      3        0\n",
              "\n",
              "[1260 rows x 11 columns]>"
            ]
          },
          "metadata": {},
          "execution_count": 24
        }
      ]
    },
    {
      "cell_type": "code",
      "metadata": {
        "id": "fYVJMX7cl6CR"
      },
      "source": [
        "data['rubbish'] = .56 * data['wage'] + 0.32 * data['exper']"
      ],
      "execution_count": 26,
      "outputs": []
    },
    {
      "cell_type": "code",
      "metadata": {
        "colab": {
          "base_uri": "https://localhost:8080/"
        },
        "id": "oOzItY5CmQnN",
        "outputId": "7694e2e0-3894-4aa4-a61d-99365efd43ac"
      },
      "source": [
        "def string_gender(female):\n",
        "  return 'female' if female else 'male'\n",
        "d = {1: 'union', 0: 'non-union'}\n",
        "data['union'].map(d).head()"
      ],
      "execution_count": 27,
      "outputs": [
        {
          "output_type": "execute_result",
          "data": {
            "text/plain": [
              "0    non-union\n",
              "1    non-union\n",
              "2    non-union\n",
              "3    non-union\n",
              "4    non-union\n",
              "Name: union, dtype: object"
            ]
          },
          "metadata": {},
          "execution_count": 27
        }
      ]
    },
    {
      "cell_type": "code",
      "metadata": {
        "colab": {
          "base_uri": "https://localhost:8080/"
        },
        "id": "n-QuKa3ZmtPQ",
        "outputId": "457f9d19-31b4-4e3e-eca5-95f7cf81072f"
      },
      "source": [
        "data['female'].apply(lambda female: 'female' if female else 'male').head()"
      ],
      "execution_count": 28,
      "outputs": [
        {
          "output_type": "execute_result",
          "data": {
            "text/plain": [
              "0    female\n",
              "1    female\n",
              "2    female\n",
              "3      male\n",
              "4      male\n",
              "Name: female, dtype: object"
            ]
          },
          "metadata": {},
          "execution_count": 28
        }
      ]
    }
  ]
}